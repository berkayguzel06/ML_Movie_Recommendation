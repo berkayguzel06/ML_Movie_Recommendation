{
  "nbformat": 4,
  "nbformat_minor": 0,
  "metadata": {
    "colab": {
      "provenance": [],
      "gpuType": "T4",
      "authorship_tag": "ABX9TyPA6U5Ibpxz8AeOnUlG2N1C",
      "include_colab_link": true
    },
    "kernelspec": {
      "name": "python3",
      "display_name": "Python 3"
    },
    "language_info": {
      "name": "python"
    },
    "accelerator": "GPU"
  },
  "cells": [
    {
      "cell_type": "markdown",
      "metadata": {
        "id": "view-in-github",
        "colab_type": "text"
      },
      "source": [
        "<a href=\"https://colab.research.google.com/github/berkayguzel06/ML_Movie_Recommendation/blob/main/warehouse_model_gen.ipynb\" target=\"_parent\"><img src=\"https://colab.research.google.com/assets/colab-badge.svg\" alt=\"Open In Colab\"/></a>"
      ]
    },
    {
      "cell_type": "code",
      "source": [
        "!pip3 install torch scikit-learn pandas numpy"
      ],
      "metadata": {
        "colab": {
          "base_uri": "https://localhost:8080/"
        },
        "id": "sL-zdeJbbOKS",
        "outputId": "c33b9ef0-2699-4973-ea2e-b93f70932d37"
      },
      "execution_count": null,
      "outputs": [
        {
          "output_type": "stream",
          "name": "stdout",
          "text": [
            "Requirement already satisfied: torch in /usr/local/lib/python3.10/dist-packages (2.5.1+cu121)\n",
            "Requirement already satisfied: scikit-learn in /usr/local/lib/python3.10/dist-packages (1.6.0)\n",
            "Requirement already satisfied: pandas in /usr/local/lib/python3.10/dist-packages (2.2.2)\n",
            "Requirement already satisfied: numpy in /usr/local/lib/python3.10/dist-packages (1.26.4)\n",
            "Requirement already satisfied: filelock in /usr/local/lib/python3.10/dist-packages (from torch) (3.16.1)\n",
            "Requirement already satisfied: typing-extensions>=4.8.0 in /usr/local/lib/python3.10/dist-packages (from torch) (4.12.2)\n",
            "Requirement already satisfied: networkx in /usr/local/lib/python3.10/dist-packages (from torch) (3.4.2)\n",
            "Requirement already satisfied: jinja2 in /usr/local/lib/python3.10/dist-packages (from torch) (3.1.4)\n",
            "Requirement already satisfied: fsspec in /usr/local/lib/python3.10/dist-packages (from torch) (2024.10.0)\n",
            "Requirement already satisfied: sympy==1.13.1 in /usr/local/lib/python3.10/dist-packages (from torch) (1.13.1)\n",
            "Requirement already satisfied: mpmath<1.4,>=1.1.0 in /usr/local/lib/python3.10/dist-packages (from sympy==1.13.1->torch) (1.3.0)\n",
            "Requirement already satisfied: scipy>=1.6.0 in /usr/local/lib/python3.10/dist-packages (from scikit-learn) (1.13.1)\n",
            "Requirement already satisfied: joblib>=1.2.0 in /usr/local/lib/python3.10/dist-packages (from scikit-learn) (1.4.2)\n",
            "Requirement already satisfied: threadpoolctl>=3.1.0 in /usr/local/lib/python3.10/dist-packages (from scikit-learn) (3.5.0)\n",
            "Requirement already satisfied: python-dateutil>=2.8.2 in /usr/local/lib/python3.10/dist-packages (from pandas) (2.8.2)\n",
            "Requirement already satisfied: pytz>=2020.1 in /usr/local/lib/python3.10/dist-packages (from pandas) (2024.2)\n",
            "Requirement already satisfied: tzdata>=2022.7 in /usr/local/lib/python3.10/dist-packages (from pandas) (2024.2)\n",
            "Requirement already satisfied: six>=1.5 in /usr/local/lib/python3.10/dist-packages (from python-dateutil>=2.8.2->pandas) (1.17.0)\n",
            "Requirement already satisfied: MarkupSafe>=2.0 in /usr/local/lib/python3.10/dist-packages (from jinja2->torch) (3.0.2)\n"
          ]
        }
      ]
    },
    {
      "cell_type": "code",
      "execution_count": null,
      "metadata": {
        "colab": {
          "base_uri": "https://localhost:8080/"
        },
        "id": "M54j_-fcbI3e",
        "outputId": "7561c893-94cc-44d1-cf63-b7229a94cf18"
      },
      "outputs": [
        {
          "output_type": "stream",
          "name": "stdout",
          "text": [
            "20\n",
            "Epoch 10, Loss: 0.1949\n",
            "Epoch 20, Loss: 0.1060\n",
            "Epoch 30, Loss: 0.0766\n",
            "Epoch 40, Loss: 0.0691\n",
            "Epoch 50, Loss: 0.0622\n"
          ]
        }
      ],
      "source": [
        "import torch\n",
        "import torch.nn as nn\n",
        "import torch.optim as optim\n",
        "from sklearn.preprocessing import MultiLabelBinarizer\n",
        "from sklearn.metrics.pairwise import cosine_similarity\n",
        "import pandas as pd\n",
        "import numpy as np\n",
        "\n",
        "# Load the datasets\n",
        "movies_df = pd.read_csv(\"movie.csv\")\n",
        "user_movies_df = pd.read_csv(\"user_movies.csv\")\n",
        "\n",
        "# --- Model 1: Content-Based Recommendation ---\n",
        "# Preprocess genres\n",
        "def preprocess_genres(movies_df):\n",
        "    mlb = MultiLabelBinarizer()\n",
        "    genre_data = movies_df['genres'].str.split('|')\n",
        "    genre_matrix = mlb.fit_transform(genre_data)\n",
        "    return genre_matrix, mlb\n",
        "\n",
        "genre_matrix, genre_encoder = preprocess_genres(movies_df)\n",
        "\n",
        "# Define Autoencoder for genre embeddings\n",
        "class GenreAutoencoder(nn.Module):\n",
        "    def __init__(self, input_dim, hidden_dim):\n",
        "        super(GenreAutoencoder, self).__init__()\n",
        "        self.encoder = nn.Sequential(\n",
        "            nn.Linear(input_dim, hidden_dim),\n",
        "            nn.ReLU(),\n",
        "        )\n",
        "        self.decoder = nn.Sequential(\n",
        "            nn.Linear(hidden_dim, input_dim),\n",
        "            nn.Sigmoid(),\n",
        "        )\n",
        "\n",
        "    def forward(self, x):\n",
        "        encoded = self.encoder(x)\n",
        "        decoded = self.decoder(encoded)\n",
        "        return encoded, decoded\n",
        "\n",
        "# Instantiate and train the autoencoder\n",
        "input_dim = genre_matrix.shape[1]\n",
        "print(input_dim)\n",
        "hidden_dim = 16\n",
        "autoencoder = GenreAutoencoder(input_dim, hidden_dim)\n",
        "criterion = nn.MSELoss()\n",
        "optimizer = optim.Adam(autoencoder.parameters(), lr=0.01)\n",
        "\n",
        "def train_autoencoder(autoencoder, data, epochs=50):\n",
        "    for epoch in range(epochs):\n",
        "        data_tensor = torch.FloatTensor(data)\n",
        "        optimizer.zero_grad()\n",
        "        _, reconstructed = autoencoder(data_tensor)\n",
        "        loss = criterion(reconstructed, data_tensor)\n",
        "        loss.backward()\n",
        "        optimizer.step()\n",
        "        if (epoch + 1) % 10 == 0:\n",
        "            print(f\"Epoch {epoch + 1}, Loss: {loss.item():.4f}\")\n",
        "\n",
        "data = genre_matrix\n",
        "train_autoencoder(autoencoder, data)\n",
        "\n",
        "# Use the trained encoder to calculate similarities\n",
        "data_tensor = torch.FloatTensor(data)\n",
        "with torch.no_grad():\n",
        "    embeddings, _ = autoencoder(data_tensor)\n",
        "embeddings = embeddings.numpy()\n",
        "similarity_matrix = cosine_similarity(embeddings)"
      ]
    },
    {
      "cell_type": "code",
      "source": [
        "# Example: Recommend movies similar to movieId=1\n",
        "movie_idx = 24  # Toy Story (1995)\n",
        "similar_movies = similarity_matrix[movie_idx].argsort()[::-1][1:6]\n",
        "print(\"Recommended movies for Toy Story (1995):\")\n",
        "# Print with movie genre\n",
        "for movie_id in similar_movies:\n",
        "    print(movies_df.iloc[movie_id]['title'])\n",
        "    print(movies_df.iloc[movie_id]['genres'])\n",
        "    print()"
      ],
      "metadata": {
        "colab": {
          "base_uri": "https://localhost:8080/"
        },
        "id": "vFWr4kJLbqpk",
        "outputId": "af1737c3-217c-4265-a508-b64c9487f75c"
      },
      "execution_count": null,
      "outputs": [
        {
          "output_type": "stream",
          "name": "stdout",
          "text": [
            "Recommended movies for Toy Story (1995):\n",
            "Once Upon a Time... When We Were Colored (1995)\n",
            "Drama|Romance\n",
            "\n",
            "How to Make an American Quilt (1995)\n",
            "Drama|Romance\n",
            "\n",
            "Reconstruction (2003)\n",
            "Drama|Romance\n",
            "\n",
            "Plain Dirty (a.k.a. Briar Patch) (2003)\n",
            "Drama|Romance\n",
            "\n",
            "Panic in Needle Park, The (1971)\n",
            "Drama|Romance\n",
            "\n"
          ]
        }
      ]
    },
    {
      "cell_type": "code",
      "source": [
        "import torch\n",
        "import torch.nn as nn\n",
        "import torch.optim as optim\n",
        "from sklearn.preprocessing import MultiLabelBinarizer\n",
        "from sklearn.metrics.pairwise import cosine_similarity\n",
        "import pandas as pd\n",
        "import numpy as np\n",
        "\n",
        "# Load the datasets\n",
        "movies_df = pd.read_csv(\"movie.csv\")\n",
        "user_movies_df = pd.read_csv(\"user_movies.csv\")\n",
        "\n",
        "# --- Model 1: Content-Based Recommendation ---\n",
        "# Preprocess genres\n",
        "def preprocess_genres(movies_df):\n",
        "    mlb = MultiLabelBinarizer()\n",
        "    genre_data = movies_df['genres'].str.split('|')\n",
        "    genre_matrix = mlb.fit_transform(genre_data)\n",
        "    return genre_matrix, mlb\n",
        "\n",
        "genre_matrix, genre_encoder = preprocess_genres(movies_df)\n",
        "\n",
        "# Define Autoencoder for genre embeddings\n",
        "class GenreAutoencoder(nn.Module):\n",
        "    def __init__(self, input_dim, hidden_dim):\n",
        "        super(GenreAutoencoder, self).__init__()\n",
        "        self.encoder = nn.Sequential(\n",
        "            nn.Linear(input_dim, hidden_dim),\n",
        "            nn.ReLU(),\n",
        "        )\n",
        "        self.decoder = nn.Sequential(\n",
        "            nn.Linear(hidden_dim, input_dim),\n",
        "            nn.Sigmoid(),\n",
        "        )\n",
        "\n",
        "    def forward(self, x):\n",
        "        encoded = self.encoder(x)\n",
        "        decoded = self.decoder(encoded)\n",
        "        return encoded, decoded\n",
        "\n",
        "# Instantiate and train the autoencoder\n",
        "input_dim = genre_matrix.shape[1]\n",
        "hidden_dim = 16\n",
        "autoencoder = GenreAutoencoder(input_dim, hidden_dim)\n",
        "criterion = nn.MSELoss()\n",
        "optimizer = optim.Adam(autoencoder.parameters(), lr=0.01)\n",
        "\n",
        "def train_autoencoder(autoencoder, data, epochs=50):\n",
        "    for epoch in range(epochs):\n",
        "        data_tensor = torch.FloatTensor(data)\n",
        "        optimizer.zero_grad()\n",
        "        _, reconstructed = autoencoder(data_tensor)\n",
        "        loss = criterion(reconstructed, data_tensor)\n",
        "        loss.backward()\n",
        "        optimizer.step()\n",
        "        if (epoch + 1) % 10 == 0:\n",
        "            print(f\"Epoch {epoch + 1}, Loss: {loss.item():.4f}\")\n",
        "\n",
        "data = genre_matrix\n",
        "train_autoencoder(autoencoder, data)\n",
        "\n",
        "# Use the trained encoder to calculate similarities\n",
        "data_tensor = torch.FloatTensor(data)\n",
        "with torch.no_grad():\n",
        "    embeddings, _ = autoencoder(data_tensor)\n",
        "embeddings = embeddings.numpy()\n",
        "similarity_matrix = cosine_similarity(embeddings)\n",
        "\n",
        "def recommend_movies(movie_ids, top_n=5):\n",
        "    recommended_movies = []\n",
        "    for movie_id in movie_ids:\n",
        "        try:\n",
        "            movie_idx = movies_df[movies_df['movieId'] == movie_id].index[0]\n",
        "            similar_movies = similarity_matrix[movie_idx].argsort()[::-1][1:top_n+1]\n",
        "            for sim_movie_idx in similar_movies:\n",
        "                recommended_movies.append(movies_df.iloc[sim_movie_idx])\n",
        "        except IndexError:\n",
        "            print(f\"Movie with ID {movie_id} not found in the dataset.\")\n",
        "    return pd.DataFrame(recommended_movies)"
      ],
      "metadata": {
        "colab": {
          "base_uri": "https://localhost:8080/"
        },
        "id": "MEhrLTAccaf8",
        "outputId": "1fb4957f-b44b-4a42-ffe5-09123d69773d"
      },
      "execution_count": null,
      "outputs": [
        {
          "output_type": "stream",
          "name": "stdout",
          "text": [
            "Epoch 10, Loss: 0.2016\n",
            "Epoch 20, Loss: 0.1129\n",
            "Epoch 30, Loss: 0.0806\n",
            "Epoch 40, Loss: 0.0727\n",
            "Epoch 50, Loss: 0.0649\n",
            "       movieId                                              title  \\\n",
            "2209      2294                                        Antz (1998)   \n",
            "21355   103755                                       Turbo (2013)   \n",
            "24156   114552                              Boxtrolls, The (2014)   \n",
            "24849   117454                           The Magic Crystal (2011)   \n",
            "24092   114240                                     Aladdin (1992)   \n",
            "16446    83115  Polar Bear King, The (Kvitebjørn Kong Valemon)...   \n",
            "12339    56915        Water Horse: Legend of the Deep, The (2007)   \n",
            "12260    56171                         Golden Compass, The (2007)   \n",
            "124        126                  NeverEnding Story III, The (1994)   \n",
            "2078      2162  NeverEnding Story II: The Next Chapter, The (1...   \n",
            "19560    96872                                   Quadrille (1938)   \n",
            "67          68                 French Twist (Gazon maudit) (1995)   \n",
            "27265   131231                                     Standby (2014)   \n",
            "2            3                            Grumpier Old Men (1995)   \n",
            "127        129                              Pie in the Sky (1996)   \n",
            "\n",
            "                                            genres  \n",
            "2209   Adventure|Animation|Children|Comedy|Fantasy  \n",
            "21355  Adventure|Animation|Children|Comedy|Fantasy  \n",
            "24156  Adventure|Animation|Children|Comedy|Fantasy  \n",
            "24849  Adventure|Animation|Children|Comedy|Fantasy  \n",
            "24092  Adventure|Animation|Children|Comedy|Fantasy  \n",
            "16446                   Adventure|Children|Fantasy  \n",
            "12339                   Adventure|Children|Fantasy  \n",
            "12260                   Adventure|Children|Fantasy  \n",
            "124                     Adventure|Children|Fantasy  \n",
            "2078                    Adventure|Children|Fantasy  \n",
            "19560                               Comedy|Romance  \n",
            "67                                  Comedy|Romance  \n",
            "27265                               Comedy|Romance  \n",
            "2                                   Comedy|Romance  \n",
            "127                                 Comedy|Romance  \n"
          ]
        }
      ]
    },
    {
      "cell_type": "code",
      "source": [
        "# Example usage: Recommend movies similar to multiple movies\n",
        "movie_ids_to_recommend = [9, 14] # Example movie IDs\n",
        "recommendations = recommend_movies(movie_ids_to_recommend)\n",
        "print(recommendations[['movieId', 'title', 'genres']])"
      ],
      "metadata": {
        "colab": {
          "base_uri": "https://localhost:8080/"
        },
        "id": "mMENd4Pyc1U8",
        "outputId": "8eab30e3-b637-4586-f768-b1b25fb16faa"
      },
      "execution_count": null,
      "outputs": [
        {
          "output_type": "stream",
          "name": "stdout",
          "text": [
            "       movieId                                              title  genres\n",
            "8            9                                Sudden Death (1995)  Action\n",
            "70          71                                   Fair Game (1995)  Action\n",
            "26161   125920                               Buffalo Girls (2012)  Action\n",
            "26108   125539                                He Who Dares (2014)  Action\n",
            "27139   130526                             The Detective 2 (2011)  Action\n",
            "14147    70988                        Norma Jean & Marilyn (1996)   Drama\n",
            "14180    71147  Death of a Cyclist (Muerte de un ciclista) (1955)   Drama\n",
            "14131    70912                                Goodbye Solo (2008)   Drama\n",
            "14126    70880                7 Women (a.k.a. Seven Women) (1966)   Drama\n",
            "14118    70846       Lorna's Silence (Le silence de Lorna) (2008)   Drama\n"
          ]
        }
      ]
    },
    {
      "cell_type": "code",
      "source": [
        "# Save the model\n",
        "torch.save(autoencoder.state_dict(), 'autoencoder_model.pth')\n",
        "\n",
        "# Load the model\n",
        "loaded_autoencoder = GenreAutoencoder(input_dim, hidden_dim)\n",
        "loaded_autoencoder.load_state_dict(torch.load('autoencoder_model.pth'))\n",
        "loaded_autoencoder.eval()  # Set the model to evaluation mode\n",
        "\n",
        "# Use the loaded model to generate embeddings\n",
        "data_tensor = torch.FloatTensor(data)\n",
        "with torch.no_grad():\n",
        "    embeddings, _ = loaded_autoencoder(data_tensor)\n",
        "embeddings = embeddings.numpy()\n",
        "loaded_similarity_matrix = cosine_similarity(embeddings)\n",
        "\n",
        "# Example usage with the loaded model:\n",
        "def recommend_movies_loaded(movie_ids, top_n=5):\n",
        "    recommended_movies = []\n",
        "    for movie_id in movie_ids:\n",
        "        try:\n",
        "            movie_idx = movies_df[movies_df['movieId'] == movie_id].index[0]\n",
        "            similar_movies = loaded_similarity_matrix[movie_idx].argsort()[::-1][1:top_n+1]\n",
        "            for sim_movie_idx in similar_movies:\n",
        "                recommended_movies.append(movies_df.iloc[sim_movie_idx])\n",
        "        except IndexError:\n",
        "            print(f\"Movie with ID {movie_id} not found in the dataset.\")\n",
        "    return pd.DataFrame(recommended_movies)\n",
        "\n",
        "movie_ids_to_recommend = [9, 14] # Example movie IDs\n",
        "recommendations = recommend_movies_loaded(movie_ids_to_recommend)\n",
        "print(recommendations[['movieId', 'title', 'genres']])"
      ],
      "metadata": {
        "colab": {
          "base_uri": "https://localhost:8080/"
        },
        "id": "7z7n0OYzdr8r",
        "outputId": "71cca5c8-8f70-4207-8335-eb06c3393651"
      },
      "execution_count": null,
      "outputs": [
        {
          "output_type": "stream",
          "name": "stderr",
          "text": [
            "<ipython-input-10-fcdda0c9cbad>:6: FutureWarning: You are using `torch.load` with `weights_only=False` (the current default value), which uses the default pickle module implicitly. It is possible to construct malicious pickle data which will execute arbitrary code during unpickling (See https://github.com/pytorch/pytorch/blob/main/SECURITY.md#untrusted-models for more details). In a future release, the default value for `weights_only` will be flipped to `True`. This limits the functions that could be executed during unpickling. Arbitrary objects will no longer be allowed to be loaded via this mode unless they are explicitly allowlisted by the user via `torch.serialization.add_safe_globals`. We recommend you start setting `weights_only=True` for any use case where you don't have full control of the loaded file. Please open an issue on GitHub for any issues related to this experimental feature.\n",
            "  loaded_autoencoder.load_state_dict(torch.load('autoencoder_model.pth'))\n"
          ]
        },
        {
          "output_type": "stream",
          "name": "stdout",
          "text": [
            "       movieId                                              title  genres\n",
            "8            9                                Sudden Death (1995)  Action\n",
            "70          71                                   Fair Game (1995)  Action\n",
            "26161   125920                               Buffalo Girls (2012)  Action\n",
            "26108   125539                                He Who Dares (2014)  Action\n",
            "27139   130526                             The Detective 2 (2011)  Action\n",
            "14147    70988                        Norma Jean & Marilyn (1996)   Drama\n",
            "14180    71147  Death of a Cyclist (Muerte de un ciclista) (1955)   Drama\n",
            "14131    70912                                Goodbye Solo (2008)   Drama\n",
            "14126    70880                7 Women (a.k.a. Seven Women) (1966)   Drama\n",
            "14118    70846       Lorna's Silence (Le silence de Lorna) (2008)   Drama\n"
          ]
        }
      ]
    },
    {
      "cell_type": "markdown",
      "source": [
        "# Model 2: Collaborative Filtering\n"
      ],
      "metadata": {
        "id": "eR1fVAxFfF7d"
      }
    },
    {
      "cell_type": "code",
      "source": [
        "# --- Model 2: Collaborative Filtering ---\n",
        "# Preprocess user-movie ratings\n",
        "num_users = user_movies_df['userId'].nunique()\n",
        "num_movies = user_movies_df['movieId'].nunique()\n",
        "\n",
        "user_movie_matrix = user_movies_df.pivot(index='userId', columns='movieId', values='rating').fillna(0).to_numpy()\n",
        "\n",
        "# Define NCF model\n",
        "class NCF(nn.Module):\n",
        "    def __init__(self, num_users, num_movies, embedding_dim):\n",
        "        super(NCF, self).__init__()\n",
        "        self.user_embedding = nn.Embedding(num_users, embedding_dim)\n",
        "        self.movie_embedding = nn.Embedding(num_movies, embedding_dim)\n",
        "        self.fc_layers = nn.Sequential(\n",
        "            nn.Linear(embedding_dim * 2, 128),\n",
        "            nn.ReLU(),\n",
        "            nn.Linear(128, 64),\n",
        "            nn.ReLU(),\n",
        "            nn.Linear(64, 1)\n",
        "        )\n",
        "\n",
        "    def forward(self, user_ids, movie_ids):\n",
        "        user_embeds = self.user_embedding(user_ids)\n",
        "        movie_embeds = self.movie_embedding(movie_ids)\n",
        "        x = torch.cat([user_embeds, movie_embeds], dim=-1)\n",
        "        return self.fc_layers(x).squeeze()\n",
        "\n",
        "# Instantiate and train the NCF model\n",
        "embedding_dim = 16\n",
        "ncf = NCF(num_users, num_movies, embedding_dim)\n",
        "criterion = nn.MSELoss()\n",
        "optimizer = optim.Adam(ncf.parameters(), lr=0.01)\n",
        "\n",
        "def train_ncf(ncf, user_movie_matrix, epochs=10):\n",
        "    for epoch in range(epochs):\n",
        "        user_ids, movie_ids = np.where(user_movie_matrix > 0)\n",
        "        ratings = user_movie_matrix[user_ids, movie_ids]\n",
        "\n",
        "        user_ids_tensor = torch.LongTensor(user_ids)\n",
        "        movie_ids_tensor = torch.LongTensor(movie_ids)\n",
        "        ratings_tensor = torch.FloatTensor(ratings)\n",
        "\n",
        "        optimizer.zero_grad()\n",
        "        predictions = ncf(user_ids_tensor, movie_ids_tensor)\n",
        "        loss = criterion(predictions, ratings_tensor)\n",
        "        loss.backward()\n",
        "        optimizer.step()\n",
        "\n",
        "        if (epoch + 1) % 2 == 0:\n",
        "            print(f\"Epoch {epoch + 1}, Loss: {loss.item():.4f}\")\n",
        "\n",
        "train_ncf(ncf, user_movie_matrix)\n",
        "\n"
      ],
      "metadata": {
        "colab": {
          "base_uri": "https://localhost:8080/"
        },
        "id": "VLkqQU3zbkdq",
        "outputId": "6cdd7474-8664-4e72-b01f-1073a4213bf6"
      },
      "execution_count": null,
      "outputs": [
        {
          "output_type": "stream",
          "name": "stdout",
          "text": [
            "Epoch 2, Loss: 6.9442\n",
            "Epoch 4, Loss: 1.3155\n",
            "Epoch 6, Loss: 3.2753\n",
            "Epoch 8, Loss: 1.1209\n",
            "Epoch 10, Loss: 1.7733\n"
          ]
        }
      ]
    },
    {
      "cell_type": "markdown",
      "source": [
        "# First Testing NFC Model"
      ],
      "metadata": {
        "id": "jwlMyoBufzKs"
      }
    },
    {
      "cell_type": "code",
      "source": [
        "# Example: Recommend movies for userId=0\n",
        "user_id = 0\n",
        "user_movies = user_movie_matrix[user_id]\n",
        "unwatched_movie_ids = np.where(user_movies == 0)[0]\n",
        "\n",
        "with torch.no_grad():\n",
        "    user_ids_tensor = torch.LongTensor([user_id] * len(unwatched_movie_ids))\n",
        "    movie_ids_tensor = torch.LongTensor(unwatched_movie_ids)\n",
        "    predictions = ncf(user_ids_tensor, movie_ids_tensor).numpy()\n",
        "\n",
        "recommended_movie_ids = unwatched_movie_ids[np.argsort(predictions)[::-1][:5]]\n",
        "print(\"Recommended movies for User 0:\")\n",
        "print(movies_df.iloc[recommended_movie_ids]['title'].values)"
      ],
      "metadata": {
        "colab": {
          "base_uri": "https://localhost:8080/"
        },
        "id": "mHAmDlfbbnim",
        "outputId": "20eccf02-6431-48fc-87e0-d28ba0d53cdd"
      },
      "execution_count": null,
      "outputs": [
        {
          "output_type": "stream",
          "name": "stdout",
          "text": [
            "Recommended movies for User 0:\n",
            "['Talk Radio (1988)' 'Siege, The (1998)' 'Night Flier (1997)'\n",
            " 'Loser (1991)' 'Kentucky Fried Movie, The (1977)']\n"
          ]
        }
      ]
    },
    {
      "cell_type": "markdown",
      "source": [
        "# Test the Generated Model with Similarity Scores"
      ],
      "metadata": {
        "id": "uSxrGjxSfr6E"
      }
    },
    {
      "cell_type": "code",
      "source": [
        "# Example: Recommend movies for userId=0 with genres and similarity scores\n",
        "user_id = 0\n",
        "user_movies = user_movie_matrix[user_id]\n",
        "unwatched_movie_ids = np.where(user_movies == 0)[0]\n",
        "\n",
        "with torch.no_grad():\n",
        "    user_ids_tensor = torch.LongTensor([user_id] * len(unwatched_movie_ids))\n",
        "    movie_ids_tensor = torch.LongTensor(unwatched_movie_ids)\n",
        "    predictions = ncf(user_ids_tensor, movie_ids_tensor).numpy()\n",
        "\n",
        "recommended_movie_ids = unwatched_movie_ids[np.argsort(predictions)[::-1][:5]]\n",
        "\n",
        "print(\"Recommended movies for User 0:\")\n",
        "for movie_id in recommended_movie_ids:\n",
        "    movie_title = movies_df.iloc[movie_id]['title']\n",
        "    movie_genres = movies_df.iloc[movie_id]['genres']\n",
        "    similarity_score = predictions[np.where(unwatched_movie_ids == movie_id)][0]  # Get the prediction score\n",
        "    print(f\"Title: {movie_title}\")\n",
        "    print(f\"Genres: {movie_genres}\")\n",
        "    print(f\"Similarity Score: {similarity_score:.4f}\") # Display with 4 decimal places\n",
        "    print()"
      ],
      "metadata": {
        "colab": {
          "base_uri": "https://localhost:8080/"
        },
        "id": "pW8A8Re3eeZl",
        "outputId": "a5ce8126-0468-4f0c-b733-e320b611ddfa"
      },
      "execution_count": null,
      "outputs": [
        {
          "output_type": "stream",
          "name": "stdout",
          "text": [
            "Recommended movies for User 0:\n",
            "Title: Talk Radio (1988)\n",
            "Genres: Drama\n",
            "Similarity Score: 3.5492\n",
            "\n",
            "Title: Siege, The (1998)\n",
            "Genres: Action|Thriller\n",
            "Similarity Score: 3.4796\n",
            "\n",
            "Title: Night Flier (1997)\n",
            "Genres: Horror\n",
            "Similarity Score: 3.2344\n",
            "\n",
            "Title: Loser (1991)\n",
            "Genres: Comedy\n",
            "Similarity Score: 3.2152\n",
            "\n",
            "Title: Kentucky Fried Movie, The (1977)\n",
            "Genres: Comedy\n",
            "Similarity Score: 3.1825\n",
            "\n"
          ]
        }
      ]
    },
    {
      "cell_type": "markdown",
      "source": [
        "# Download Model and Use It\n",
        "Model is downloaded in .pth format to use it in local and tested"
      ],
      "metadata": {
        "id": "Nfso4U5Wfc8J"
      }
    },
    {
      "cell_type": "code",
      "source": [
        "# Save the model\n",
        "torch.save(ncf.state_dict(), 'ncf_model.pth')\n",
        "\n",
        "# Load the model\n",
        "loaded_ncf = NCF(num_users, num_movies, embedding_dim)\n",
        "loaded_ncf.load_state_dict(torch.load('ncf_model.pth'))\n",
        "loaded_ncf.eval()\n",
        "\n",
        "# Example usage with the loaded model\n",
        "user_id = 0\n",
        "user_movies = user_movie_matrix[user_id]\n",
        "unwatched_movie_ids = np.where(user_movies == 0)[0]\n",
        "\n",
        "with torch.no_grad():\n",
        "    user_ids_tensor = torch.LongTensor([user_id] * len(unwatched_movie_ids))\n",
        "    movie_ids_tensor = torch.LongTensor(unwatched_movie_ids)\n",
        "    predictions = loaded_ncf(user_ids_tensor, movie_ids_tensor).numpy()\n",
        "\n",
        "recommended_movie_ids = unwatched_movie_ids[np.argsort(predictions)[::-1][:5]]\n",
        "\n",
        "print(\"Recommended movies for User 0 (using loaded model):\")\n",
        "for movie_id in recommended_movie_ids:\n",
        "    movie_title = movies_df.iloc[movie_id]['title']\n",
        "    movie_genres = movies_df.iloc[movie_id]['genres']\n",
        "    similarity_score = predictions[np.where(unwatched_movie_ids == movie_id)][0]\n",
        "    print(f\"Title: {movie_title}\")\n",
        "    print(f\"Genres: {movie_genres}\")\n",
        "    print(f\"Similarity Score: {similarity_score:.4f}\")\n",
        "    print()"
      ],
      "metadata": {
        "colab": {
          "base_uri": "https://localhost:8080/"
        },
        "id": "iCx22loQew_Y",
        "outputId": "78c4d4fd-0570-4944-a2f9-2a5964b3ad6d"
      },
      "execution_count": null,
      "outputs": [
        {
          "output_type": "stream",
          "name": "stdout",
          "text": [
            "Recommended movies for User 0 (using loaded model):\n",
            "Title: Talk Radio (1988)\n",
            "Genres: Drama\n",
            "Similarity Score: 3.5492\n",
            "\n",
            "Title: Siege, The (1998)\n",
            "Genres: Action|Thriller\n",
            "Similarity Score: 3.4796\n",
            "\n",
            "Title: Night Flier (1997)\n",
            "Genres: Horror\n",
            "Similarity Score: 3.2344\n",
            "\n",
            "Title: Loser (1991)\n",
            "Genres: Comedy\n",
            "Similarity Score: 3.2152\n",
            "\n",
            "Title: Kentucky Fried Movie, The (1977)\n",
            "Genres: Comedy\n",
            "Similarity Score: 3.1825\n",
            "\n"
          ]
        },
        {
          "output_type": "stream",
          "name": "stderr",
          "text": [
            "<ipython-input-14-381459fae1c3>:6: FutureWarning: You are using `torch.load` with `weights_only=False` (the current default value), which uses the default pickle module implicitly. It is possible to construct malicious pickle data which will execute arbitrary code during unpickling (See https://github.com/pytorch/pytorch/blob/main/SECURITY.md#untrusted-models for more details). In a future release, the default value for `weights_only` will be flipped to `True`. This limits the functions that could be executed during unpickling. Arbitrary objects will no longer be allowed to be loaded via this mode unless they are explicitly allowlisted by the user via `torch.serialization.add_safe_globals`. We recommend you start setting `weights_only=True` for any use case where you don't have full control of the loaded file. Please open an issue on GitHub for any issues related to this experimental feature.\n",
            "  loaded_ncf.load_state_dict(torch.load('ncf_model.pth'))\n"
          ]
        }
      ]
    },
    {
      "cell_type": "code",
      "source": [],
      "metadata": {
        "id": "EaWxb5GvgDYx"
      },
      "execution_count": null,
      "outputs": []
    }
  ]
}